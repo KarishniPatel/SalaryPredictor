{
 "cells": [
  {
   "cell_type": "markdown",
   "id": "9dda5769-83f4-470b-9ec2-dea98d7c20d9",
   "metadata": {},
   "source": [
    "## Finding Employee Salary on Basis of Position Level Using Polymonial Regression"
   ]
  },
  {
   "cell_type": "code",
   "execution_count": 1,
   "id": "e056ec01-81fc-4162-851e-835119d748e2",
   "metadata": {},
   "outputs": [],
   "source": [
    "# Import Libraries"
   ]
  },
  {
   "cell_type": "code",
   "execution_count": 2,
   "id": "1931c86b-ec97-4153-96e0-17ce6512ac91",
   "metadata": {},
   "outputs": [],
   "source": [
    "import numpy as np\n",
    "import matplotlib.pyplot as plt\n",
    "import pandas as pd"
   ]
  },
  {
   "cell_type": "code",
   "execution_count": 3,
   "id": "e3b61e5c-bf7a-403a-aad3-abb1cb6cc676",
   "metadata": {},
   "outputs": [],
   "source": [
    "# Import Dataset [Pay Matrix]"
   ]
  },
  {
   "cell_type": "code",
   "execution_count": 4,
   "id": "16b3d0e0-173d-473b-8a50-00b02c50f3be",
   "metadata": {},
   "outputs": [],
   "source": [
    "dataset = pd.read_csv('Position_Salaries.csv')\n",
    "x = dataset.iloc[:, 1:-1].values\n",
    "y = dataset.iloc[:, -1].values"
   ]
  },
  {
   "cell_type": "code",
   "execution_count": 5,
   "id": "06ed23f4-f9c3-44c5-bb11-a9c7560d7eec",
   "metadata": {},
   "outputs": [],
   "source": [
    "# Apply Linear Regression Model on whole database (Since pay matrix is not too large)"
   ]
  },
  {
   "cell_type": "code",
   "execution_count": 6,
   "id": "f2e2f532-cbfd-4378-88d1-4cd66e5b4072",
   "metadata": {},
   "outputs": [
    {
     "data": {
      "text/plain": [
       "LinearRegression()"
      ]
     },
     "execution_count": 6,
     "metadata": {},
     "output_type": "execute_result"
    }
   ],
   "source": [
    "from sklearn.linear_model import LinearRegression\n",
    "LinReg = LinearRegression()\n",
    "LinReg.fit(x, y)"
   ]
  },
  {
   "cell_type": "code",
   "execution_count": 7,
   "id": "0bde9e98-ed3f-4e5f-8f86-6c4c484fc7dc",
   "metadata": {},
   "outputs": [],
   "source": [
    "# Apply Polynomial Regression on whole database"
   ]
  },
  {
   "cell_type": "code",
   "execution_count": 8,
   "id": "243d1589-32ff-47e1-8ae2-9176e0d47415",
   "metadata": {},
   "outputs": [
    {
     "data": {
      "text/plain": [
       "LinearRegression()"
      ]
     },
     "execution_count": 8,
     "metadata": {},
     "output_type": "execute_result"
    }
   ],
   "source": [
    "from sklearn.preprocessing import PolynomialFeatures\n",
    "PolyReg = PolynomialFeatures(degree = 4)\n",
    "x_poly = PolyReg.fit_transform(x)\n",
    "LinReg2 = LinearRegression()\n",
    "LinReg2.fit(x_poly, y)"
   ]
  },
  {
   "cell_type": "code",
   "execution_count": 9,
   "id": "98c59107-171d-4d19-a52b-142ab816c610",
   "metadata": {},
   "outputs": [],
   "source": [
    "# Visualize Predictions in Linear Regression"
   ]
  },
  {
   "cell_type": "code",
   "execution_count": 10,
   "id": "976b331b-699f-416b-b27a-0e28619898b5",
   "metadata": {},
   "outputs": [
    {
     "data": {
      "text/plain": [
       "<function matplotlib.pyplot.show(close=None, block=None)>"
      ]
     },
     "execution_count": 10,
     "metadata": {},
     "output_type": "execute_result"
    },
    {
     "data": {
      "image/png": "[encoded data removed]",
      "text/plain": [
       "<Figure size 432x288 with 1 Axes>"
      ]
     },
     "metadata": {
      "needs_background": "light"
     },
     "output_type": "display_data"
    }
   ],
   "source": [
    "plt.scatter(x, y, color = 'red')\n",
    "plt.plot(x, LinReg.predict(x), color = 'blue')\n",
    "plt.title('Position Level VS Salary (Linear Regression)')\n",
    "plt.xlabel('Position Level')\n",
    "plt.ylabel('Salary')\n",
    "plt.show"
   ]
  },
  {
   "cell_type": "code",
   "execution_count": 11,
   "id": "21f26be7-b0e4-464f-b4b3-267eba57a9de",
   "metadata": {},
   "outputs": [],
   "source": [
    "# Visualize Predictions in Polynomial Regression"
   ]
  },
  {
   "cell_type": "code",
   "execution_count": 12,
   "id": "a74fc35a-b284-4a07-924c-bbae7cb79f03",
   "metadata": {},
   "outputs": [
    {
     "data": {
      "image/png": "[encoded data removed]",
      "text/plain": [
       "<Figure size 432x288 with 1 Axes>"
      ]
     },
     "metadata": {
      "needs_background": "light"
     },
     "output_type": "display_data"
    }
   ],
   "source": [
    "plt.scatter(x, y, color = 'red')\n",
    "plt.plot(x, LinReg2.predict(PolyReg.fit_transform(x)), color = 'blue')\n",
    "plt.title('Position level VS Salary (Polynomial Regression)')\n",
    "plt.xlabel('Position level')\n",
    "plt.ylabel('Salary')\n",
    "plt.show()"
   ]
  },
  {
   "cell_type": "code",
   "execution_count": 13,
   "id": "a209e68e-a5ec-4f79-8416-93e1a7e32cff",
   "metadata": {},
   "outputs": [],
   "source": [
    "# Predict Salary for Employee on Pay Matrix 6.5 (Linear Regression)"
   ]
  },
  {
   "cell_type": "code",
   "execution_count": 14,
   "id": "b7c50b17-baa2-4a6a-925d-1cdd8f2c56f1",
   "metadata": {},
   "outputs": [
    {
     "data": {
      "text/plain": [
       "array([330378.78787879])"
      ]
     },
     "execution_count": 14,
     "metadata": {},
     "output_type": "execute_result"
    }
   ],
   "source": [
    "LinReg.predict([[6.5]])"
   ]
  },
  {
   "cell_type": "code",
   "execution_count": 15,
   "id": "4d898a49-53df-4ae1-9e4a-7cdfec90ee91",
   "metadata": {},
   "outputs": [],
   "source": [
    "# Predict Salary for Employee on Pay Matrix 6.5 (Polynomial Regression)"
   ]
  },
  {
   "cell_type": "code",
   "execution_count": 16,
   "id": "e703ef3e-0391-4dbc-a4c3-c002e7add2a6",
   "metadata": {},
   "outputs": [
    {
     "data": {
      "text/plain": [
       "array([158862.4526516])"
      ]
     },
     "execution_count": 16,
     "metadata": {},
     "output_type": "execute_result"
    }
   ],
   "source": [
    "LinReg2.predict(PolyReg.fit_transform([[6.5]]))"
   ]
  },
  {
   "cell_type": "code",
   "execution_count": 17,
   "id": "441dc524-f5d6-4ef6-bace-c1ab97a1d5c7",
   "metadata": {},
   "outputs": [],
   "source": [
    "# Conclusion- This database is better fit to Polynomial Regression."
   ]
  }
 ],
 "metadata": {
  "kernelspec": {
   "display_name": "Python 3",
   "language": "python",
   "name": "python3"
  },
  "language_info": {
   "codemirror_mode": {
    "name": "ipython",
    "version": 3
   },
   "file_extension": ".py",
   "mimetype": "text/x-python",
   "name": "python",
   "nbconvert_exporter": "python",
   "pygments_lexer": "ipython3",
   "version": "3.8.8"
  }
 },
 "nbformat": 4,
 "nbformat_minor": 5
}
